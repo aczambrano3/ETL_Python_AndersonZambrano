{
 "cells": [
  {
   "cell_type": "markdown",
   "id": "cd369fa8-d8a3-45ec-a684-1c40dc99fdff",
   "metadata": {},
   "source": [
    "****1**** ***Importación de modulos requeridos***"
   ]
  },
  {
   "cell_type": "code",
   "execution_count": 1,
   "id": "dc3ebf72",
   "metadata": {},
   "outputs": [],
   "source": [
    "import glob \n",
    "import pandas as pd \n",
    "import xml.etree.ElementTree as ET \n",
    "from datetime import datetime\n",
    "import requests\n",
    "from zipfile import ZipFile"
   ]
  },
  {
   "cell_type": "markdown",
   "id": "de795234-3b14-418f-8150-764b3f0cea6a",
   "metadata": {},
   "source": [
    "****2**** ***Datos utilizados***"
   ]
  },
  {
   "cell_type": "code",
   "execution_count": 2,
   "id": "69483a90-ba35-40db-93ab-7d3ad7a3e264",
   "metadata": {},
   "outputs": [
    {
     "name": "stdout",
     "output_type": "stream",
     "text": [
      "--2022-01-12 22:47:33--  https://cf-courses-data.s3.us.cloud-object-storage.appdomain.cloud/IBMDeveloperSkillsNetwork-PY0221EN-SkillsNetwork/labs/module%206/Lab%20-%20Extract%20Transform%20Load/data/datasource.zip\n",
      "Resolving cf-courses-data.s3.us.cloud-object-storage.appdomain.cloud (cf-courses-data.s3.us.cloud-object-storage.appdomain.cloud)... 198.23.119.245\n",
      "Connecting to cf-courses-data.s3.us.cloud-object-storage.appdomain.cloud (cf-courses-data.s3.us.cloud-object-storage.appdomain.cloud)|198.23.119.245|:443... connected.\n",
      "HTTP request sent, awaiting response... 200 OK\n",
      "Length: 4249 (4.1K) [application/zip]\n",
      "Saving to: ‘datasource.zip’\n",
      "\n",
      "datasource.zip      100%[===================>]   4.15K  --.-KB/s    in 0s      \n",
      "\n",
      "2022-01-12 22:47:33 (391 MB/s) - ‘datasource.zip’ saved [4249/4249]\n",
      "\n"
     ]
    }
   ],
   "source": [
    "!wget https://cf-courses-data.s3.us.cloud-object-storage.appdomain.cloud/IBMDeveloperSkillsNetwork-PY0221EN-SkillsNetwork/labs/module%206/Lab%20-%20Extract%20Transform%20Load/data/datasource.zip\n",
    "with ZipFile('datasource.zip', 'r') as zip:\n",
    "        zip.extractall('dealership_data')\n"
   ]
  },
  {
   "cell_type": "code",
   "execution_count": 3,
   "id": "d0549c87-f318-4233-9018-d515490c10f0",
   "metadata": {},
   "outputs": [],
   "source": [
    "tmpfile = \"dealership_temp.tmp\" # store all extracted data\n",
    "logfile = \"dealership_logfile.txt\" # all event logs will be stored\n",
    "targetfile = \"dealership_transformed_data.csv\" # transformed data is stored"
   ]
  },
  {
   "cell_type": "markdown",
   "id": "fafb1fff-5b80-433b-bce1-9cbaa68c2e60",
   "metadata": {},
   "source": [
    "****3****  ***Extracción de datos***"
   ]
  },
  {
   "cell_type": "markdown",
   "id": "87dda9f4-48dd-4315-9ec9-7a0fe922cc34",
   "metadata": {},
   "source": [
    "****3.1****  ***Extraer CSV***"
   ]
  },
  {
   "cell_type": "code",
   "execution_count": 4,
   "id": "404a088e",
   "metadata": {},
   "outputs": [],
   "source": [
    "def extract_from_csv(file_to_process):\n",
    "    dataframe = pd.read_csv(file_to_process)\n",
    "    return dataframe"
   ]
  },
  {
   "cell_type": "markdown",
   "id": "1bdd7b6a-15c9-4ec8-91d2-830304921302",
   "metadata": {},
   "source": [
    "****3.2****  ***Extraer JSON***"
   ]
  },
  {
   "cell_type": "code",
   "execution_count": 5,
   "id": "ca5a9c8d",
   "metadata": {},
   "outputs": [],
   "source": [
    "def extract_from_json(file_to_process):\n",
    "    dataframe = pd.read_json(file_to_process,lines=True)\n",
    "    return dataframe"
   ]
  },
  {
   "cell_type": "markdown",
   "id": "c075a611-e1b0-458c-9426-2e91b29c4af4",
   "metadata": {},
   "source": [
    "****3.3****  ***Extraer XML***"
   ]
  },
  {
   "cell_type": "code",
   "execution_count": 6,
   "id": "39806be6",
   "metadata": {},
   "outputs": [],
   "source": [
    "def extract_from_xml(file_to_process):\n",
    "    dataframe = pd.DataFrame(columns=['car_model','year_of_manufacture','price',\n",
    "'fuel'])\n",
    "    tree = ET.parse(file_to_process)\n",
    "    root = tree.getroot()\n",
    "    for person in root:\n",
    "        car_model = person.find(\"car_model\").text\n",
    "        year_of_manufacture = int(person.find(\"year_of_manufacture\").text)\n",
    "        price = float(person.find(\"price\").text)\n",
    "        fuel = person.find(\"fuel\").text\n",
    "        dataframe = dataframe.append({\"car_model\":car_model,\n",
    "\"year_of_manufacture\":year_of_manufacture, \"price\":price, \"fuel\":fuel},\n",
    "ignore_index=True)\n",
    "        return dataframe"
   ]
  },
  {
   "cell_type": "markdown",
   "id": "f5b7c7bd-343f-4f7b-bec4-0ea411551e94",
   "metadata": {},
   "source": [
    "****3.4****  ***Extraccion***"
   ]
  },
  {
   "cell_type": "code",
   "execution_count": 7,
   "id": "ba313658",
   "metadata": {},
   "outputs": [],
   "source": [
    "def extract():\n",
    "    extracted_data = pd.DataFrame(columns=['car_model','year_of_manufacture','price', 'fuel'])\n",
    "#for csv files\n",
    "    for csvfile in glob.glob(\"dealership_data/*.csv\"):\n",
    "            extracted_data = extracted_data.append(extract_from_csv(csvfile), ignore_index=True)\n",
    "#for json files\n",
    "    for jsonfile in glob.glob(\"dealership_data/*.json\"):\n",
    "            extracted_data = extracted_data.append(extract_from_json(jsonfile), ignore_index=True)\n",
    "#for xml files\n",
    "    for xmlfile in glob.glob(\"dealership_data/*.xml\"):\n",
    "            extracted_data = extracted_data.append(extract_from_xml(xmlfile), ignore_index=True)\n",
    "    return extracted_data"
   ]
  },
  {
   "cell_type": "markdown",
   "id": "260a7a21-6058-4ae5-a3fb-c45f63283184",
   "metadata": {},
   "source": [
    "****4****  ***Transformar***"
   ]
  },
  {
   "cell_type": "code",
   "execution_count": 8,
   "id": "a010a020",
   "metadata": {},
   "outputs": [],
   "source": [
    "def transform(data):\n",
    "    data['price'] = round(data.price, 2)\n",
    "    return data"
   ]
  },
  {
   "cell_type": "markdown",
   "id": "e8c6367b-c9d2-49aa-80ae-278db2ed5185",
   "metadata": {},
   "source": [
    "****5****  ***Carga y Registro***"
   ]
  },
  {
   "cell_type": "code",
   "execution_count": 9,
   "id": "b6edd734",
   "metadata": {},
   "outputs": [],
   "source": [
    "def load(targetfile,data_to_load):\n",
    "    data_to_load.to_csv(targetfile)"
   ]
  },
  {
   "cell_type": "code",
   "execution_count": 10,
   "id": "b3aee274",
   "metadata": {},
   "outputs": [],
   "source": [
    "def log(message):\n",
    "    timestamp_format = '%H:%M:%S-%h-%d-%Y'\n",
    "    #Hour-Minute-Second-MonthName-Day-Year\n",
    "    now = datetime.now() # get current timestamp\n",
    "    timestamp = now.strftime(timestamp_format)\n",
    "    with open(\"dealership_logfile.txt\",\"a\") as f: f.write(timestamp + ',' + message +'n')"
   ]
  },
  {
   "cell_type": "markdown",
   "id": "c16fda1b-db8e-41f2-808a-847e909d402f",
   "metadata": {},
   "source": [
    "****6****  ***Ejecución***"
   ]
  },
  {
   "cell_type": "code",
   "execution_count": 11,
   "id": "db34f083",
   "metadata": {},
   "outputs": [],
   "source": [
    "log(\"ETL Job Started\")"
   ]
  },
  {
   "cell_type": "code",
   "execution_count": 12,
   "id": "206714f5",
   "metadata": {},
   "outputs": [],
   "source": [
    "log(\"Extract phase Started\")\n",
    "extracted_data = extract()\n",
    "log(\"Extract phase Ended\")"
   ]
  },
  {
   "cell_type": "code",
   "execution_count": 13,
   "id": "551e5730",
   "metadata": {},
   "outputs": [],
   "source": [
    "log(\"Transform phase Ended\")\n",
    "transformed_data = transform(extracted_data)"
   ]
  },
  {
   "cell_type": "code",
   "execution_count": 14,
   "id": "8db0ebb5",
   "metadata": {},
   "outputs": [],
   "source": [
    "log(\"Load phase Started\")\n",
    "load(targetfile,transformed_data)\n",
    "log(\"Load phase Ended\")"
   ]
  },
  {
   "cell_type": "code",
   "execution_count": 15,
   "id": "a4b8c32b",
   "metadata": {},
   "outputs": [],
   "source": [
    "log(\"ETL Job Ended\")"
   ]
  },
  {
   "cell_type": "code",
   "execution_count": null,
   "id": "0d9db07f",
   "metadata": {},
   "outputs": [],
   "source": []
  }
 ],
 "metadata": {
  "kernelspec": {
   "display_name": "Python 3",
   "language": "python",
   "name": "python3"
  },
  "language_info": {
   "codemirror_mode": {
    "name": "ipython",
    "version": 3
   },
   "file_extension": ".py",
   "mimetype": "text/x-python",
   "name": "python",
   "nbconvert_exporter": "python",
   "pygments_lexer": "ipython3",
   "version": "3.7.8"
  }
 },
 "nbformat": 4,
 "nbformat_minor": 5
}
